{
 "cells": [
  {
   "cell_type": "code",
   "execution_count": 5,
   "metadata": {},
   "outputs": [],
   "source": [
    "import pymysql\n",
    "import pandas as pd \n",
    "import getpass \n",
    "import csv "
   ]
  },
  {
   "cell_type": "code",
   "execution_count": 2,
   "metadata": {},
   "outputs": [
    {
     "name": "stdout",
     "output_type": "stream",
     "text": [
      "········\n"
     ]
    }
   ],
   "source": [
    "p = getpass.getpass() "
   ]
  },
  {
   "cell_type": "code",
   "execution_count": 3,
   "metadata": {},
   "outputs": [
    {
     "data": {
      "text/plain": [
       "'Criatura12345@:'"
      ]
     },
     "execution_count": 3,
     "metadata": {},
     "output_type": "execute_result"
    }
   ],
   "source": [
    "p"
   ]
  },
  {
   "cell_type": "code",
   "execution_count": 4,
   "metadata": {},
   "outputs": [],
   "source": [
    "connection = pymysql.connect(host='localhost',\n",
    "                             user='user',\n",
    "                             password=p,\n",
    "                             db='db_menu') "
   ]
  },
  {
   "cell_type": "code",
   "execution_count": 5,
   "metadata": {},
   "outputs": [],
   "source": [
    "cursor = connection.cursor() "
   ]
  },
  {
   "cell_type": "code",
   "execution_count": 3,
   "metadata": {},
   "outputs": [],
   "source": [
    "def readFile(file): \n",
    "    directory = \"https://media.githubusercontent.com/media/tdsh-ux/dataBases/master/modelData/{}.csv\".format(file)\n",
    "    csvData = pd.read_csv(directory) \n",
    "    return csvData.where(pd.notnull(csvData), None) "
   ]
  },
  {
   "cell_type": "code",
   "execution_count": 6,
   "metadata": {},
   "outputs": [
    {
     "data": {
      "text/html": [
       "<div>\n",
       "<style scoped>\n",
       "    .dataframe tbody tr th:only-of-type {\n",
       "        vertical-align: middle;\n",
       "    }\n",
       "\n",
       "    .dataframe tbody tr th {\n",
       "        vertical-align: top;\n",
       "    }\n",
       "\n",
       "    .dataframe thead th {\n",
       "        text-align: right;\n",
       "    }\n",
       "</style>\n",
       "<table border=\"1\" class=\"dataframe\">\n",
       "  <thead>\n",
       "    <tr style=\"text-align: right;\">\n",
       "      <th></th>\n",
       "      <th>menu_page_id</th>\n",
       "      <th>dish_id</th>\n",
       "      <th>price</th>\n",
       "    </tr>\n",
       "  </thead>\n",
       "  <tbody>\n",
       "    <tr>\n",
       "      <th>0</th>\n",
       "      <td>1389</td>\n",
       "      <td>21</td>\n",
       "      <td>0.25</td>\n",
       "    </tr>\n",
       "    <tr>\n",
       "      <th>1</th>\n",
       "      <td>130</td>\n",
       "      <td>50</td>\n",
       "      <td>None</td>\n",
       "    </tr>\n",
       "    <tr>\n",
       "      <th>2</th>\n",
       "      <td>13915</td>\n",
       "      <td>50</td>\n",
       "      <td>None</td>\n",
       "    </tr>\n",
       "    <tr>\n",
       "      <th>3</th>\n",
       "      <td>5946</td>\n",
       "      <td>286</td>\n",
       "      <td>None</td>\n",
       "    </tr>\n",
       "    <tr>\n",
       "      <th>4</th>\n",
       "      <td>4857</td>\n",
       "      <td>286</td>\n",
       "      <td>None</td>\n",
       "    </tr>\n",
       "    <tr>\n",
       "      <th>...</th>\n",
       "      <td>...</td>\n",
       "      <td>...</td>\n",
       "      <td>...</td>\n",
       "    </tr>\n",
       "    <tr>\n",
       "      <th>6926</th>\n",
       "      <td>23326</td>\n",
       "      <td>512174</td>\n",
       "      <td>None</td>\n",
       "    </tr>\n",
       "    <tr>\n",
       "      <th>6927</th>\n",
       "      <td>63008</td>\n",
       "      <td>4373</td>\n",
       "      <td>0.35</td>\n",
       "    </tr>\n",
       "    <tr>\n",
       "      <th>6928</th>\n",
       "      <td>63009</td>\n",
       "      <td>29186</td>\n",
       "      <td>0.4</td>\n",
       "    </tr>\n",
       "    <tr>\n",
       "      <th>6929</th>\n",
       "      <td>67591</td>\n",
       "      <td>26077</td>\n",
       "      <td>0.2</td>\n",
       "    </tr>\n",
       "    <tr>\n",
       "      <th>6930</th>\n",
       "      <td>59886</td>\n",
       "      <td>519108</td>\n",
       "      <td>None</td>\n",
       "    </tr>\n",
       "  </tbody>\n",
       "</table>\n",
       "<p>6931 rows × 3 columns</p>\n",
       "</div>"
      ],
      "text/plain": [
       "      menu_page_id  dish_id price\n",
       "0             1389       21  0.25\n",
       "1              130       50  None\n",
       "2            13915       50  None\n",
       "3             5946      286  None\n",
       "4             4857      286  None\n",
       "...            ...      ...   ...\n",
       "6926         23326   512174  None\n",
       "6927         63008     4373  0.35\n",
       "6928         63009    29186   0.4\n",
       "6929         67591    26077   0.2\n",
       "6930         59886   519108  None\n",
       "\n",
       "[6931 rows x 3 columns]"
      ]
     },
     "execution_count": 6,
     "metadata": {},
     "output_type": "execute_result"
    }
   ],
   "source": [
    "currency = readFile(\"currencyId\")\n",
    "dish = readFile(\"dishG\") \n",
    "event = readFile(\"eventId\") \n",
    "menu = readFile(\"menuG\") \n",
    "menu_item = readFile(\"menuItemG\") \n",
    "menu_page = readFile(\"menuPageG\") \n",
    "sponsor = readFile(\"sponsorId\") \n",
    "venue = readFile(\"venueId\") "
   ]
  },
  {
   "cell_type": "code",
   "execution_count": 27,
   "metadata": {},
   "outputs": [],
   "source": [
    "def addSQL(table, table_name): \n",
    "    cols = \"`,`\".join([str(i) for i in table.columns.tolist()]) \n",
    "    for i,row in table.iterrows():\n",
    "        sql = \"INSERT INTO `\" + table_name + \"` (`\" +cols + \"`) VALUES (\" + \"%s,\"*(len(row)-1) + \"%s)\"\n",
    "        cursor.execute(sql, tuple(row)) \n",
    "        connection.commit() \n",
    "        print(sql) "
   ]
  },
  {
   "cell_type": "code",
   "execution_count": 28,
   "metadata": {},
   "outputs": [],
   "source": [
    "addSQL(venue, \"venue\") "
   ]
  },
  {
   "cell_type": "code",
   "execution_count": 23,
   "metadata": {
    "scrolled": true
   },
   "outputs": [],
   "source": [
    "addSQL(sponsor, \"sponsor\") "
   ]
  },
  {
   "cell_type": "code",
   "execution_count": 24,
   "metadata": {},
   "outputs": [],
   "source": [
    "addSQL(event, \"event\") "
   ]
  },
  {
   "cell_type": "code",
   "execution_count": 25,
   "metadata": {},
   "outputs": [],
   "source": [
    "addSQL(currency, \"currency\") "
   ]
  },
  {
   "cell_type": "code",
   "execution_count": 25,
   "metadata": {},
   "outputs": [],
   "source": [
    "addSQL(menu, \"menu\") "
   ]
  },
  {
   "cell_type": "code",
   "execution_count": 27,
   "metadata": {},
   "outputs": [],
   "source": [
    "addSQL(dish, \"dish\") "
   ]
  },
  {
   "cell_type": "code",
   "execution_count": 26,
   "metadata": {},
   "outputs": [],
   "source": [
    "addSQL(menu_page, \"menu_page\")  "
   ]
  },
  {
   "cell_type": "code",
   "execution_count": null,
   "metadata": {},
   "outputs": [],
   "source": [
    "addSQL(menu_item, \"menu_item\") "
   ]
  },
  {
   "cell_type": "code",
   "execution_count": null,
   "metadata": {},
   "outputs": [],
   "source": [
    "import os \n",
    "directoryDump = \"C:/Users/tiago/desktop/blogdown/dataBases/dump\" \n",
    "os.mkdir(directoryDump) "
   ]
  },
  {
   "cell_type": "code",
   "execution_count": 6,
   "metadata": {},
   "outputs": [],
   "source": [
    "def dumpSQL(table, table_name): \n",
    "    cols = \",\".join([str(i) for i in table.columns.tolist()]) \n",
    "    csvRows = table.to_csv(index = False, quoting=csv.QUOTE_NONNUMERIC).replace(\"\\\\\", \"\").split(\"\\r\\n\")   \n",
    "    directoryDump = \"C:/Users/tiago/desktop/blogdown/dataBases/dump/\" \n",
    "    file = open(directoryDump + table_name + \".sql\", \"w\", encoding=\"utf-8\") \n",
    "    skipHeader = True \n",
    "    for index in range(len(csvRows)): \n",
    "        if skipHeader: \n",
    "            skipHeader = False \n",
    "            continue \n",
    "        if index != len(csvRows) - 1: \n",
    "            sql = \"INSERT INTO \" + table_name + \" (\" + cols + \") VALUES (\" + csvRows[index] + \");\\n\"\n",
    "            file.write(sql) "
   ]
  },
  {
   "cell_type": "code",
   "execution_count": 7,
   "metadata": {},
   "outputs": [],
   "source": [
    "dumpSQL(venue, \"venue\")  "
   ]
  },
  {
   "cell_type": "code",
   "execution_count": 8,
   "metadata": {},
   "outputs": [],
   "source": [
    "dumpSQL(sponsor, \"sponsor\")  "
   ]
  },
  {
   "cell_type": "code",
   "execution_count": 9,
   "metadata": {},
   "outputs": [],
   "source": [
    "dumpSQL(event, \"event\") "
   ]
  },
  {
   "cell_type": "code",
   "execution_count": 10,
   "metadata": {},
   "outputs": [],
   "source": [
    "dumpSQL(currency, \"currency\")  "
   ]
  },
  {
   "cell_type": "code",
   "execution_count": 11,
   "metadata": {},
   "outputs": [],
   "source": [
    "dumpSQL(menu, \"menu\") "
   ]
  },
  {
   "cell_type": "code",
   "execution_count": 12,
   "metadata": {},
   "outputs": [],
   "source": [
    "dumpSQL(dish, \"dish\")  "
   ]
  },
  {
   "cell_type": "code",
   "execution_count": 13,
   "metadata": {},
   "outputs": [],
   "source": [
    "dumpSQL(menu_page, \"menu_page\") "
   ]
  },
  {
   "cell_type": "code",
   "execution_count": 14,
   "metadata": {},
   "outputs": [],
   "source": [
    "dumpSQL(menu_item, \"menu_item\")  "
   ]
  }
 ],
 "metadata": {
  "kernelspec": {
   "display_name": "Python 3",
   "language": "python",
   "name": "python3"
  },
  "language_info": {
   "codemirror_mode": {
    "name": "ipython",
    "version": 3
   },
   "file_extension": ".py",
   "mimetype": "text/x-python",
   "name": "python",
   "nbconvert_exporter": "python",
   "pygments_lexer": "ipython3",
   "version": "3.8.3"
  }
 },
 "nbformat": 4,
 "nbformat_minor": 4
}
