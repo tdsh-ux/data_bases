{
 "cells": [
  {
   "cell_type": "code",
   "execution_count": 8,
   "metadata": {},
   "outputs": [],
   "source": [
    "import json\n",
    "import jupyter_dash\n",
    "import urllib.request \n",
    "import dash_core_components as dcc \n",
    "import dash_html_components as html\n",
    "from dash.dependencies import Input, Output\n",
    "import dash_cytoscape as cyto\n",
    "\n"
   ]
  },
  {
   "cell_type": "code",
   "execution_count": 13,
   "metadata": {},
   "outputs": [
    {
     "data": {
      "text/html": [
       "\n",
       "        <iframe\n",
       "            width=\"100%\"\n",
       "            height=\"650\"\n",
       "            src=\"http://127.0.0.1:9999/\"\n",
       "            frameborder=\"0\"\n",
       "            allowfullscreen\n",
       "        ></iframe>\n",
       "        "
      ],
      "text/plain": [
       "<IPython.lib.display.IFrame at 0x7ffb78ebb670>"
      ]
     },
     "metadata": {},
     "output_type": "display_data"
    }
   ],
   "source": [
    "\n",
    "app = jupyter_dash.JupyterDash(__name__)\n",
    "app.title = \"Food Graph\"\n",
    "server = app.server\n",
    "\n",
    "app.scripts.config.serve_locally = True\n",
    "app.css.config.serve_locally = True\n",
    "\n",
    "\n",
    "# with open('heroku_application/food.json', 'r') as f:\n",
    "    # data = json.loads(f.read()) \n",
    "    \n",
    "with open(\"food.json\", \"r\") as file: \n",
    "    data = json.loads(file.read()) \n",
    "    \n",
    "#https://github.com/plotly/dash-cytoscape/blob/master/demos/data/edge-types/cy-style.json\n",
    "with open('heroku_application/cy-style.json') as f:\n",
    "    stylesheet = json.loads(f.read())\n",
    "\n",
    "styles = {\n",
    "    'container': {\n",
    "        'position': 'fixed',\n",
    "        'display': 'flex',\n",
    "        'flex-direction': 'column',\n",
    "        'height': '100%',\n",
    "        'width': '100%'\n",
    "    },\n",
    "    'cy-container': {\n",
    "        'flex': '1',\n",
    "        'position': 'relative'\n",
    "    },\n",
    "    'cytoscape': {\n",
    "        'position': 'absolute',\n",
    "        'width': '100%',\n",
    "        'height': '100%',\n",
    "        'z-index': 999\n",
    "    }\n",
    "}\n",
    "\n",
    "\n",
    "# App\n",
    "app.layout = html.Div(style=styles['container'], children=[\n",
    "    html.Div([\n",
    "        html.Button(\"Responsive Toggle\", id='toggle-button'),\n",
    "        html.Div(id='toggle-text')\n",
    "    ]),\n",
    "    html.Div(className='cy-container', style=styles['cy-container'], children=[\n",
    "        cyto.Cytoscape(\n",
    "            id='cytoscape',\n",
    "            elements=data['elements'],\n",
    "            stylesheet=stylesheet,\n",
    "            style=styles['cytoscape'],\n",
    "            layout={\n",
    "                'name': 'cose',\n",
    "                'idealEdgeLength': 100,\n",
    "                'nodeOverlap': 10,\n",
    "                'refresh': 20,\n",
    "                'fit': True,\n",
    "                'padding': 200,\n",
    "                'randomize': False,\n",
    "                'componentSpacing': 100,\n",
    "                'nodeRepulsion': 4000000,\n",
    "                'edgeElasticity': 50,\n",
    "                'nestingFactor': 5,\n",
    "                'gravity': 80,\n",
    "                'numIter': 1000,\n",
    "                'initialTemp': 200,\n",
    "                'coolingFactor': 0.95,\n",
    "                'minTemp': 1.0,\n",
    "                'minNodeSpacing': 100\n",
    "            },\n",
    "            responsive=True\n",
    "        )\n",
    "    ])\n",
    "])\n",
    "\n",
    "\n",
    "if __name__ == \"__main__\": \n",
    "    app.run_server(debug = True, mode = \"inline\", port = 9999) "
   ]
  }
 ],
 "metadata": {
  "kernelspec": {
   "display_name": "Python 3",
   "language": "python",
   "name": "python3"
  },
  "language_info": {
   "codemirror_mode": {
    "name": "ipython",
    "version": 3
   },
   "file_extension": ".py",
   "mimetype": "text/x-python",
   "name": "python",
   "nbconvert_exporter": "python",
   "pygments_lexer": "ipython3",
   "version": "3.8.3"
  }
 },
 "nbformat": 4,
 "nbformat_minor": 4
}
